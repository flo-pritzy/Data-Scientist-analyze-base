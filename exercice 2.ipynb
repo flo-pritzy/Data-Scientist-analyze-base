{
 "cells": [
  {
   "cell_type": "markdown",
   "metadata": {},
   "source": [
    "### Database : données RH à propos de l'emploi de Data Scientist "
   ]
  },
  {
   "cell_type": "markdown",
   "metadata": {},
   "source": [
    "Libraries importantes :"
   ]
  },
  {
   "cell_type": "code",
   "execution_count": 1,
   "metadata": {},
   "outputs": [],
   "source": [
    "import pandas as pd\n",
    "import numpy as np \n",
    "from sklearn.impute import SimpleImputer\n",
    "import matplotlib.pyplot as plt\n",
    "import seaborn as sns"
   ]
  },
  {
   "cell_type": "markdown",
   "metadata": {},
   "source": [
    "Importation database : data"
   ]
  },
  {
   "cell_type": "code",
   "execution_count": 2,
   "metadata": {},
   "outputs": [],
   "source": [
    "data = pd.read_csv('/Users/florinepritzy/Documents/test/donnees_exo2.csv', sep=',')"
   ]
  },
  {
   "cell_type": "code",
   "execution_count": 3,
   "metadata": {},
   "outputs": [
    {
     "name": "stdout",
     "output_type": "stream",
     "text": [
      "<class 'pandas.core.frame.DataFrame'>\n",
      "RangeIndex: 19158 entries, 0 to 19157\n",
      "Data columns (total 14 columns):\n",
      " #   Column                  Non-Null Count  Dtype  \n",
      "---  ------                  --------------  -----  \n",
      " 0   enrollee_id             19158 non-null  int64  \n",
      " 1   city                    19158 non-null  object \n",
      " 2   city_development_index  19158 non-null  float64\n",
      " 3   gender                  14650 non-null  object \n",
      " 4   relevent_experience     19158 non-null  object \n",
      " 5   enrolled_university     18772 non-null  object \n",
      " 6   education_level         18698 non-null  object \n",
      " 7   major_discipline        16345 non-null  object \n",
      " 8   experience              19093 non-null  object \n",
      " 9   company_size            13220 non-null  object \n",
      " 10  company_type            13018 non-null  object \n",
      " 11  last_new_job            18735 non-null  object \n",
      " 12  training_hours          19158 non-null  int64  \n",
      " 13  target                  19158 non-null  float64\n",
      "dtypes: float64(2), int64(2), object(10)\n",
      "memory usage: 2.0+ MB\n"
     ]
    }
   ],
   "source": [
    "data\n",
    "SEED = 42\n",
    "data.shape\n",
    "data.head(10)\n",
    "data.info()"
   ]
  },
  {
   "cell_type": "markdown",
   "metadata": {},
   "source": [
    "On remarque 4 variables numériques et 10 variables qualitatives "
   ]
  },
  {
   "cell_type": "markdown",
   "metadata": {},
   "source": [
    "## Partie 1 : Nettoyage des données "
   ]
  },
  {
   "cell_type": "markdown",
   "metadata": {},
   "source": [
    "#### a) Regarde toute l'information manquante : on a que des valeurs manquantes standarts donc aucune transformation nécessaire"
   ]
  },
  {
   "cell_type": "code",
   "execution_count": 4,
   "metadata": {},
   "outputs": [
    {
     "name": "stdout",
     "output_type": "stream",
     "text": [
      "enrollee_id [ 8949 29725 11561 ... 24576  5756 23834] \n",
      "\n",
      "city ['city_103' 'city_40' 'city_21' 'city_115' 'city_162' 'city_176'\n",
      " 'city_160' 'city_46' 'city_61' 'city_114' 'city_13' 'city_159' 'city_102'\n",
      " 'city_67' 'city_100' 'city_16' 'city_71' 'city_104' 'city_64' 'city_101'\n",
      " 'city_83' 'city_105' 'city_73' 'city_75' 'city_41' 'city_11' 'city_93'\n",
      " 'city_90' 'city_36' 'city_20' 'city_57' 'city_152' 'city_19' 'city_65'\n",
      " 'city_74' 'city_173' 'city_136' 'city_98' 'city_97' 'city_50' 'city_138'\n",
      " 'city_82' 'city_157' 'city_89' 'city_150' 'city_70' 'city_175' 'city_94'\n",
      " 'city_28' 'city_59' 'city_165' 'city_145' 'city_142' 'city_26' 'city_12'\n",
      " 'city_37' 'city_43' 'city_116' 'city_23' 'city_99' 'city_149' 'city_10'\n",
      " 'city_45' 'city_80' 'city_128' 'city_158' 'city_123' 'city_7' 'city_72'\n",
      " 'city_106' 'city_143' 'city_78' 'city_109' 'city_24' 'city_134' 'city_48'\n",
      " 'city_144' 'city_91' 'city_146' 'city_133' 'city_126' 'city_118' 'city_9'\n",
      " 'city_167' 'city_27' 'city_84' 'city_54' 'city_39' 'city_79' 'city_76'\n",
      " 'city_77' 'city_81' 'city_131' 'city_44' 'city_117' 'city_155' 'city_33'\n",
      " 'city_141' 'city_127' 'city_62' 'city_53' 'city_25' 'city_2' 'city_69'\n",
      " 'city_120' 'city_111' 'city_30' 'city_1' 'city_140' 'city_179' 'city_55'\n",
      " 'city_14' 'city_42' 'city_107' 'city_18' 'city_139' 'city_180' 'city_166'\n",
      " 'city_121' 'city_129' 'city_8' 'city_31' 'city_171'] \n",
      "\n",
      "city_development_index [0.92  0.776 0.624 0.789 0.767 0.764 0.762 0.913 0.926 0.827 0.843 0.804\n",
      " 0.855 0.887 0.91  0.884 0.924 0.666 0.558 0.923 0.794 0.754 0.939 0.55\n",
      " 0.865 0.698 0.893 0.796 0.866 0.682 0.802 0.579 0.878 0.897 0.949 0.925\n",
      " 0.896 0.836 0.693 0.769 0.775 0.903 0.555 0.727 0.64  0.516 0.743 0.899\n",
      " 0.915 0.689 0.895 0.89  0.847 0.527 0.766 0.738 0.647 0.795 0.74  0.701\n",
      " 0.493 0.84  0.691 0.735 0.742 0.479 0.722 0.921 0.848 0.856 0.898 0.83\n",
      " 0.73  0.68  0.725 0.556 0.448 0.763 0.745 0.645 0.788 0.78  0.512 0.739\n",
      " 0.563 0.518 0.824 0.487 0.649 0.781 0.625 0.807 0.664] \n",
      "\n",
      "gender ['Male' nan 'Female' 'Other'] \n",
      "\n",
      "relevent_experience ['Has relevent experience' 'No relevent experience'] \n",
      "\n",
      "enrolled_university ['no_enrollment' 'Full time course' nan 'Part time course'] \n",
      "\n",
      "education_level ['Graduate' 'Masters' 'High School' nan 'Phd' 'Primary School'] \n",
      "\n",
      "major_discipline ['STEM' 'Business Degree' nan 'Arts' 'Humanities' 'No Major' 'Other'] \n",
      "\n",
      "experience ['>20' '15' '5' '<1' '11' '13' '7' '17' '2' '16' '1' '4' '10' '14' '18'\n",
      " '19' '12' '3' '6' '9' '8' '20' nan] \n",
      "\n",
      "company_size [nan '50-99' '<10' '10000+' '5000-9999' '1000-4999' '10/49' '100-500'\n",
      " '500-999'] \n",
      "\n",
      "company_type [nan 'Pvt Ltd' 'Funded Startup' 'Early Stage Startup' 'Other'\n",
      " 'Public Sector' 'NGO'] \n",
      "\n",
      "last_new_job ['1' '>4' 'never' '4' '3' '2' nan] \n",
      "\n",
      "training_hours [ 36  47  83  52   8  24  18  46 123  32 108  23  26 106   7 132  68  50\n",
      "  48  65  13  22 148  72  40 141  82 145 206 152  42  14 112  87  20  21\n",
      "  92 102  43  45  19  90  25  15  98 142  28 228  29  12  17  35   4 136\n",
      "  27  74  86  75 332 140 182 172  33  34 150 160   3   2 210 101  59 260\n",
      " 131 109  70  51  60 164 290 133  76 156 120 100  39  55  49   6 125 326\n",
      " 198  11  41 114 246  81  31  84 105  38 178 104 202  88 218  62  10  80\n",
      "  77  37 162 190  30  16   5  54  44 110 262 107 134 103  96  57 240  94\n",
      " 113  56  64 320   9 129  58 126 166  95  97 204 116 161 146 302  53 143\n",
      " 124 214 288 306 322  67  61 130 220  78 314 226 280  91 234 163 151  85\n",
      " 256 168 144  66 128  73 122 154  63 292 188  71 135 138 184  89 157 118\n",
      " 111 192 127 216 139 196  99 167 276 121  69 155 316 242 304 284 278 310\n",
      " 222 212 250 180 258 330 158 149 165  79 194 176 174 312 200 328 300 153\n",
      " 232 336 308 147 298 224 254 248 236 170 264 119 117 334 324   1 238 266\n",
      " 282 268 244 272 294 270 286] \n",
      "\n",
      "target [1. 0.] \n",
      "\n"
     ]
    }
   ],
   "source": [
    "for var in data.columns:\n",
    "    print(var, data[var].unique(), '\\n')"
   ]
  },
  {
   "cell_type": "markdown",
   "metadata": {},
   "source": [
    "#### b) Regarde l'information manquante : supprime les variables avec plus de 50% de NaN et les variables qui n'apportent pas d'information supplémentaire "
   ]
  },
  {
   "cell_type": "code",
   "execution_count": 5,
   "metadata": {},
   "outputs": [
    {
     "name": "stdout",
     "output_type": "stream",
     "text": [
      "enrollee_id percent of missing values False\n",
      "city percent of missing values False\n",
      "city_development_index percent of missing values False\n",
      "gender percent of missing values False\n",
      "relevent_experience percent of missing values False\n",
      "enrolled_university percent of missing values False\n",
      "education_level percent of missing values False\n",
      "major_discipline percent of missing values False\n",
      "experience percent of missing values False\n",
      "company_size percent of missing values False\n",
      "company_type percent of missing values False\n",
      "last_new_job percent of missing values False\n",
      "training_hours percent of missing values False\n",
      "target percent of missing values False\n"
     ]
    }
   ],
   "source": [
    "for var in data.columns:\n",
    "    print(var, 'percent of missing values', data[var].isnull().mean().round(3)>0.5)"
   ]
  },
  {
   "cell_type": "code",
   "execution_count": 6,
   "metadata": {},
   "outputs": [
    {
     "name": "stdout",
     "output_type": "stream",
     "text": [
      "enrollee_id 19158 19158\n",
      "city 123 19158\n",
      "city_development_index 93 19158\n",
      "gender 3 19158\n",
      "relevent_experience 2 19158\n",
      "enrolled_university 3 19158\n",
      "education_level 5 19158\n",
      "major_discipline 6 19158\n",
      "experience 22 19158\n",
      "company_size 8 19158\n",
      "company_type 6 19158\n",
      "last_new_job 6 19158\n",
      "training_hours 241 19158\n",
      "target 2 19158\n"
     ]
    }
   ],
   "source": [
    "for var in data.columns:\n",
    "    print(var, data[var].nunique(), len(data))"
   ]
  },
  {
   "cell_type": "markdown",
   "metadata": {},
   "source": [
    "#### 1 variable apparaît : enrollee_id : pas de valeurs analytique"
   ]
  },
  {
   "cell_type": "code",
   "execution_count": 7,
   "metadata": {},
   "outputs": [],
   "source": [
    "data.drop('enrollee_id', axis = 1, inplace = True)"
   ]
  },
  {
   "cell_type": "markdown",
   "metadata": {},
   "source": [
    "#### c) Traitement des missing values : \n",
    "\n",
    "Important de comprendre pourquoi ce sont des missing values car la manière de les traiter n'est pas la même\n",
    "- MCAR (Missing Completly At Random) : la probabilité que la valeur soit manquante est indépendante des autres variables\n",
    "- MAR (Missing At Random) : la probabilité qu’une valeur soit manquante est corrélée à l’existence de variables explicatives dont les valeurs sont renseignées. \n",
    "- MNAR (Missing Not At Random) : dans ce cas l’absence d’une donnée est motivée par une cause que nous avons interêt à comprendre pour mieux traiter ces données absentes. Nous ne pouvons pas l'ignorer\n"
   ]
  },
  {
   "cell_type": "markdown",
   "metadata": {},
   "source": [
    "Pourcentage de missing values : "
   ]
  },
  {
   "cell_type": "code",
   "execution_count": 8,
   "metadata": {},
   "outputs": [
    {
     "name": "stdout",
     "output_type": "stream",
     "text": [
      "gender 0.23530639941538783\n",
      "enrolled_university 0.020148240943731077\n",
      "education_level 0.02401085708320284\n",
      "major_discipline 0.1468316108153252\n",
      "experience 0.0033928385008873576\n",
      "company_size 0.3099488464349097\n",
      "company_type 0.32049274454535964\n",
      "last_new_job 0.02207954901346696\n"
     ]
    }
   ],
   "source": [
    "for var in data.columns:\n",
    "    if data[var].isnull().sum() > 0:\n",
    "        print(var, data[var].isnull().mean())"
   ]
  },
  {
   "cell_type": "markdown",
   "metadata": {},
   "source": [
    "#### Variables avec plus de 10% de valeurs manquantes : gender, major_discipline, company size et company type"
   ]
  },
  {
   "cell_type": "markdown",
   "metadata": {},
   "source": [
    "Variable gender : \n",
    "\n",
    "24% d'individus n'ont pas d'informations concernant leur sexe. Cette variable est importante, nous ne pouvons donc pas la supprimer. Nous constatons que cette variable est fortement déséquilibrée avec 90% d'hommes et 8% de femmes. Les femmes sont sous représentées dans ce secteur"
   ]
  },
  {
   "cell_type": "code",
   "execution_count": 9,
   "metadata": {},
   "outputs": [
    {
     "data": {
      "text/plain": [
       "Male      0.902457\n",
       "Female    0.084505\n",
       "Other     0.013038\n",
       "Name: gender, dtype: float64"
      ]
     },
     "execution_count": 9,
     "metadata": {},
     "output_type": "execute_result"
    }
   ],
   "source": [
    "data[\"gender\"].value_counts(normalize=True)"
   ]
  },
  {
   "cell_type": "code",
   "execution_count": 10,
   "metadata": {},
   "outputs": [
    {
     "data": {
      "text/html": [
       "<div>\n",
       "<style scoped>\n",
       "    .dataframe tbody tr th:only-of-type {\n",
       "        vertical-align: middle;\n",
       "    }\n",
       "\n",
       "    .dataframe tbody tr th {\n",
       "        vertical-align: top;\n",
       "    }\n",
       "\n",
       "    .dataframe thead th {\n",
       "        text-align: right;\n",
       "    }\n",
       "</style>\n",
       "<table border=\"1\" class=\"dataframe\">\n",
       "  <thead>\n",
       "    <tr style=\"text-align: right;\">\n",
       "      <th></th>\n",
       "      <th>city</th>\n",
       "      <th>city_development_index</th>\n",
       "      <th>gender</th>\n",
       "      <th>relevent_experience</th>\n",
       "      <th>enrolled_university</th>\n",
       "      <th>education_level</th>\n",
       "      <th>major_discipline</th>\n",
       "      <th>experience</th>\n",
       "      <th>company_size</th>\n",
       "      <th>company_type</th>\n",
       "      <th>last_new_job</th>\n",
       "      <th>training_hours</th>\n",
       "      <th>target</th>\n",
       "    </tr>\n",
       "  </thead>\n",
       "  <tbody>\n",
       "    <tr>\n",
       "      <th>10</th>\n",
       "      <td>city_21</td>\n",
       "      <td>0.624</td>\n",
       "      <td>NaN</td>\n",
       "      <td>No relevent experience</td>\n",
       "      <td>Full time course</td>\n",
       "      <td>High School</td>\n",
       "      <td>NaN</td>\n",
       "      <td>2</td>\n",
       "      <td>NaN</td>\n",
       "      <td>NaN</td>\n",
       "      <td>never</td>\n",
       "      <td>32</td>\n",
       "      <td>1.0</td>\n",
       "    </tr>\n",
       "    <tr>\n",
       "      <th>14</th>\n",
       "      <td>city_21</td>\n",
       "      <td>0.624</td>\n",
       "      <td>NaN</td>\n",
       "      <td>No relevent experience</td>\n",
       "      <td>Full time course</td>\n",
       "      <td>High School</td>\n",
       "      <td>NaN</td>\n",
       "      <td>5</td>\n",
       "      <td>NaN</td>\n",
       "      <td>NaN</td>\n",
       "      <td>never</td>\n",
       "      <td>26</td>\n",
       "      <td>0.0</td>\n",
       "    </tr>\n",
       "    <tr>\n",
       "      <th>25</th>\n",
       "      <td>city_67</td>\n",
       "      <td>0.855</td>\n",
       "      <td>NaN</td>\n",
       "      <td>No relevent experience</td>\n",
       "      <td>no_enrollment</td>\n",
       "      <td>High School</td>\n",
       "      <td>NaN</td>\n",
       "      <td>4</td>\n",
       "      <td>NaN</td>\n",
       "      <td>NaN</td>\n",
       "      <td>never</td>\n",
       "      <td>22</td>\n",
       "      <td>0.0</td>\n",
       "    </tr>\n",
       "    <tr>\n",
       "      <th>64</th>\n",
       "      <td>city_11</td>\n",
       "      <td>0.550</td>\n",
       "      <td>NaN</td>\n",
       "      <td>No relevent experience</td>\n",
       "      <td>Full time course</td>\n",
       "      <td>High School</td>\n",
       "      <td>NaN</td>\n",
       "      <td>3</td>\n",
       "      <td>NaN</td>\n",
       "      <td>NaN</td>\n",
       "      <td>NaN</td>\n",
       "      <td>98</td>\n",
       "      <td>0.0</td>\n",
       "    </tr>\n",
       "    <tr>\n",
       "      <th>69</th>\n",
       "      <td>city_90</td>\n",
       "      <td>0.698</td>\n",
       "      <td>NaN</td>\n",
       "      <td>No relevent experience</td>\n",
       "      <td>NaN</td>\n",
       "      <td>NaN</td>\n",
       "      <td>NaN</td>\n",
       "      <td>2</td>\n",
       "      <td>NaN</td>\n",
       "      <td>Pvt Ltd</td>\n",
       "      <td>never</td>\n",
       "      <td>228</td>\n",
       "      <td>1.0</td>\n",
       "    </tr>\n",
       "  </tbody>\n",
       "</table>\n",
       "</div>"
      ],
      "text/plain": [
       "       city  city_development_index gender     relevent_experience  \\\n",
       "10  city_21                   0.624    NaN  No relevent experience   \n",
       "14  city_21                   0.624    NaN  No relevent experience   \n",
       "25  city_67                   0.855    NaN  No relevent experience   \n",
       "64  city_11                   0.550    NaN  No relevent experience   \n",
       "69  city_90                   0.698    NaN  No relevent experience   \n",
       "\n",
       "   enrolled_university education_level major_discipline experience  \\\n",
       "10    Full time course     High School              NaN          2   \n",
       "14    Full time course     High School              NaN          5   \n",
       "25       no_enrollment     High School              NaN          4   \n",
       "64    Full time course     High School              NaN          3   \n",
       "69                 NaN             NaN              NaN          2   \n",
       "\n",
       "   company_size company_type last_new_job  training_hours  target  \n",
       "10          NaN          NaN        never              32     1.0  \n",
       "14          NaN          NaN        never              26     0.0  \n",
       "25          NaN          NaN        never              22     0.0  \n",
       "64          NaN          NaN          NaN              98     0.0  \n",
       "69          NaN      Pvt Ltd        never             228     1.0  "
      ]
     },
     "execution_count": 10,
     "metadata": {},
     "output_type": "execute_result"
    }
   ],
   "source": [
    "data[data['gender'].isnull()][data[data['gender'].isnull()]['major_discipline'].isnull()].head()"
   ]
  },
  {
   "cell_type": "code",
   "execution_count": 11,
   "metadata": {},
   "outputs": [],
   "source": [
    "data2 = data.copy()\n",
    "data = data.dropna(subset=[\"gender\"], axis=0, how='any').reset_index(drop=True)"
   ]
  },
  {
   "cell_type": "markdown",
   "metadata": {},
   "source": [
    "Pour ne pas modifier la distribution de notre database, nous allons supprimer les observations manquantes. Nous ne pouvons pas remplacer ces missings values par la modalité Other, qui modifierait trop notre variable d'origine. On constate également que ces informations sont aussi manquantes pour la variable major_discipline ou company_size par exemple\n",
    "- Database sans les observations manquantes du genre : \"data\" : 14650 observations \n",
    "- Database d'origine, sans transformation : data2 \n"
   ]
  },
  {
   "cell_type": "code",
   "execution_count": 12,
   "metadata": {},
   "outputs": [
    {
     "name": "stdout",
     "output_type": "stream",
     "text": [
      "enrolled_university 0.01453924914675768\n",
      "education_level 0.017679180887372015\n",
      "major_discipline 0.13501706484641637\n",
      "experience 0.0010921501706484642\n",
      "company_size 0.29440273037542664\n",
      "company_type 0.3025938566552901\n",
      "last_new_job 0.005051194539249146\n"
     ]
    }
   ],
   "source": [
    "for var in data.columns:\n",
    "    if data[var].isnull().sum() > 0:\n",
    "        print(var, data[var].isnull().mean())"
   ]
  },
  {
   "cell_type": "markdown",
   "metadata": {},
   "source": [
    "Variables company_size et company_type :"
   ]
  },
  {
   "cell_type": "code",
   "execution_count": 13,
   "metadata": {},
   "outputs": [
    {
     "name": "stdout",
     "output_type": "stream",
     "text": [
      "company_size    4313\n",
      "company_type    4433\n",
      "dtype: int64\n"
     ]
    }
   ],
   "source": [
    "print(data[[\"company_size\", \"company_type\"]].isnull().sum())"
   ]
  },
  {
   "cell_type": "code",
   "execution_count": 14,
   "metadata": {},
   "outputs": [
    {
     "data": {
      "text/html": [
       "<div>\n",
       "<style scoped>\n",
       "    .dataframe tbody tr th:only-of-type {\n",
       "        vertical-align: middle;\n",
       "    }\n",
       "\n",
       "    .dataframe tbody tr th {\n",
       "        vertical-align: top;\n",
       "    }\n",
       "\n",
       "    .dataframe thead th {\n",
       "        text-align: right;\n",
       "    }\n",
       "</style>\n",
       "<table border=\"1\" class=\"dataframe\">\n",
       "  <thead>\n",
       "    <tr style=\"text-align: right;\">\n",
       "      <th></th>\n",
       "      <th>company_size</th>\n",
       "    </tr>\n",
       "    <tr>\n",
       "      <th>company_type</th>\n",
       "      <th></th>\n",
       "    </tr>\n",
       "  </thead>\n",
       "  <tbody>\n",
       "    <tr>\n",
       "      <th>Pvt Ltd</th>\n",
       "      <td>301</td>\n",
       "    </tr>\n",
       "    <tr>\n",
       "      <th>Funded Startup</th>\n",
       "      <td>3</td>\n",
       "    </tr>\n",
       "    <tr>\n",
       "      <th>Early Stage Startup</th>\n",
       "      <td>1</td>\n",
       "    </tr>\n",
       "    <tr>\n",
       "      <th>Other</th>\n",
       "      <td>6</td>\n",
       "    </tr>\n",
       "    <tr>\n",
       "      <th>Public Sector</th>\n",
       "      <td>94</td>\n",
       "    </tr>\n",
       "    <tr>\n",
       "      <th>NGO</th>\n",
       "      <td>21</td>\n",
       "    </tr>\n",
       "  </tbody>\n",
       "</table>\n",
       "</div>"
      ],
      "text/plain": [
       "                     company_size\n",
       "company_type                     \n",
       "Pvt Ltd                       301\n",
       "Funded Startup                  3\n",
       "Early Stage Startup             1\n",
       "Other                           6\n",
       "Public Sector                  94\n",
       "NGO                            21"
      ]
     },
     "execution_count": 14,
     "metadata": {},
     "output_type": "execute_result"
    }
   ],
   "source": [
    "data_company = data[[\"company_size\", \"company_type\"]].copy()\n",
    "\n",
    "data_company.set_index(\"company_type\").isna().sum(level=0) \n",
    "#seulement 426 entreprises qui n'ont pas renseigné \"company_size\", ont renseigné \"company_type\""
   ]
  },
  {
   "cell_type": "code",
   "execution_count": 15,
   "metadata": {},
   "outputs": [
    {
     "data": {
      "text/html": [
       "<div>\n",
       "<style scoped>\n",
       "    .dataframe tbody tr th:only-of-type {\n",
       "        vertical-align: middle;\n",
       "    }\n",
       "\n",
       "    .dataframe tbody tr th {\n",
       "        vertical-align: top;\n",
       "    }\n",
       "\n",
       "    .dataframe thead th {\n",
       "        text-align: right;\n",
       "    }\n",
       "</style>\n",
       "<table border=\"1\" class=\"dataframe\">\n",
       "  <thead>\n",
       "    <tr style=\"text-align: right;\">\n",
       "      <th></th>\n",
       "      <th>company_type</th>\n",
       "    </tr>\n",
       "    <tr>\n",
       "      <th>company_size</th>\n",
       "      <th></th>\n",
       "    </tr>\n",
       "  </thead>\n",
       "  <tbody>\n",
       "    <tr>\n",
       "      <th>50-99</th>\n",
       "      <td>167</td>\n",
       "    </tr>\n",
       "    <tr>\n",
       "      <th>&lt;10</th>\n",
       "      <td>42</td>\n",
       "    </tr>\n",
       "    <tr>\n",
       "      <th>5000-9999</th>\n",
       "      <td>26</td>\n",
       "    </tr>\n",
       "    <tr>\n",
       "      <th>1000-4999</th>\n",
       "      <td>41</td>\n",
       "    </tr>\n",
       "    <tr>\n",
       "      <th>10/49</th>\n",
       "      <td>70</td>\n",
       "    </tr>\n",
       "    <tr>\n",
       "      <th>100-500</th>\n",
       "      <td>106</td>\n",
       "    </tr>\n",
       "    <tr>\n",
       "      <th>10000+</th>\n",
       "      <td>48</td>\n",
       "    </tr>\n",
       "    <tr>\n",
       "      <th>500-999</th>\n",
       "      <td>46</td>\n",
       "    </tr>\n",
       "  </tbody>\n",
       "</table>\n",
       "</div>"
      ],
      "text/plain": [
       "              company_type\n",
       "company_size              \n",
       "50-99                  167\n",
       "<10                     42\n",
       "5000-9999               26\n",
       "1000-4999               41\n",
       "10/49                   70\n",
       "100-500                106\n",
       "10000+                  48\n",
       "500-999                 46"
      ]
     },
     "execution_count": 15,
     "metadata": {},
     "output_type": "execute_result"
    }
   ],
   "source": [
    "data_company.set_index(\"company_size\").isna().sum(level=0)\n",
    "#seulement 546 entreprises qui n'ont pas renseigné \"company_type\", ont renseigné \"company_size\""
   ]
  },
  {
   "cell_type": "markdown",
   "metadata": {},
   "source": [
    "Pour ces 2 variables : la plupart du temps, quand les informations sont manquantes, les données sur le type de l'entreprise et la taille de l'entreprise ne sont pas renseignées. \n",
    "\n",
    "De plus, plus de 20% de valeurs manquantes, paraît trop important pour ajouter des informations, cela modifierait trop la distribution de nos données. \n",
    "Il faut soit supprimer ces 2 variables, soit supprimer les observations manquantes. Je décide de les supprimer mais créer aussi une nouvelle database sans les observations manquantes, pour la partie 2"
   ]
  },
  {
   "cell_type": "markdown",
   "metadata": {},
   "source": [
    "- Database sans les 2 variables : \"data\" \n",
    "- Database avec les 2 variables : \"data3\""
   ]
  },
  {
   "cell_type": "code",
   "execution_count": 16,
   "metadata": {},
   "outputs": [],
   "source": [
    "data3= data.copy()\n",
    "data.drop([\"company_type\", \"company_size\"], axis=1, inplace=True) "
   ]
  },
  {
   "cell_type": "code",
   "execution_count": 17,
   "metadata": {},
   "outputs": [],
   "source": [
    "data3 = data3.dropna(subset=[\"company_type\", \"company_size\"], axis=0, how='any').reset_index(drop=True)"
   ]
  },
  {
   "cell_type": "markdown",
   "metadata": {},
   "source": [
    "Variable \"Major discipline\" : suppression des valeurs manquantes "
   ]
  },
  {
   "cell_type": "code",
   "execution_count": 18,
   "metadata": {},
   "outputs": [
    {
     "data": {
      "text/plain": [
       "STEM               0.882891\n",
       "Humanities         0.043797\n",
       "Other              0.022885\n",
       "Business Degree    0.020044\n",
       "Arts               0.016020\n",
       "No Major           0.014362\n",
       "Name: major_discipline, dtype: float64"
      ]
     },
     "execution_count": 18,
     "metadata": {},
     "output_type": "execute_result"
    }
   ],
   "source": [
    "data[\"major_discipline\"].value_counts(normalize=True)"
   ]
  },
  {
   "cell_type": "code",
   "execution_count": 19,
   "metadata": {},
   "outputs": [],
   "source": [
    "data = data.dropna(subset=[\"major_discipline\"], axis=0, how='any').reset_index(drop=True)"
   ]
  },
  {
   "cell_type": "markdown",
   "metadata": {},
   "source": [
    "La database \"data\" contient maintenant environ 12 672 observations"
   ]
  },
  {
   "cell_type": "markdown",
   "metadata": {},
   "source": [
    "#### Variables avec moins de 10% de valeurs manquantes : last_new_job, experience, enrolled_university et education level"
   ]
  },
  {
   "cell_type": "markdown",
   "metadata": {},
   "source": [
    "Variable \"last_new_job\" :"
   ]
  },
  {
   "cell_type": "code",
   "execution_count": 20,
   "metadata": {},
   "outputs": [
    {
     "data": {
      "text/plain": [
       "1        0.432863\n",
       ">4       0.202838\n",
       "2        0.165425\n",
       "never    0.076094\n",
       "3        0.061509\n",
       "4        0.061271\n",
       "Name: last_new_job, dtype: float64"
      ]
     },
     "execution_count": 20,
     "metadata": {},
     "output_type": "execute_result"
    }
   ],
   "source": [
    "data[\"last_new_job\"].value_counts(normalize=True)"
   ]
  },
  {
   "cell_type": "code",
   "execution_count": 21,
   "metadata": {},
   "outputs": [
    {
     "name": "stdout",
     "output_type": "stream",
     "text": [
      "last_new_job    56\n",
      "dtype: int64\n"
     ]
    }
   ],
   "source": [
    "print(data[[\"last_new_job\"]].isnull().sum())"
   ]
  },
  {
   "cell_type": "markdown",
   "metadata": {},
   "source": [
    "Variable \"experience\" :"
   ]
  },
  {
   "cell_type": "code",
   "execution_count": 22,
   "metadata": {},
   "outputs": [
    {
     "data": {
      "text/plain": [
       ">20    0.209400\n",
       "5      0.067141\n",
       "4      0.060269\n",
       "6      0.059716\n",
       "10     0.057188\n",
       "9      0.054739\n",
       "3      0.054660\n",
       "7      0.054107\n",
       "8      0.041943\n",
       "2      0.041548\n",
       "15     0.040995\n",
       "11     0.039021\n",
       "14     0.034044\n",
       "16     0.030727\n",
       "12     0.029700\n",
       "13     0.024013\n",
       "17     0.021722\n",
       "1      0.018562\n",
       "19     0.018483\n",
       "18     0.017299\n",
       "<1     0.015561\n",
       "20     0.009163\n",
       "Name: experience, dtype: float64"
      ]
     },
     "execution_count": 22,
     "metadata": {},
     "output_type": "execute_result"
    }
   ],
   "source": [
    "data[\"experience\"].value_counts(normalize=True)"
   ]
  },
  {
   "cell_type": "code",
   "execution_count": 23,
   "metadata": {},
   "outputs": [
    {
     "data": {
      "text/plain": [
       "12"
      ]
     },
     "execution_count": 23,
     "metadata": {},
     "output_type": "execute_result"
    }
   ],
   "source": [
    "data[\"experience\"].isnull().sum()"
   ]
  },
  {
   "cell_type": "markdown",
   "metadata": {},
   "source": [
    "Nous allons remplacer les NaN par le mode de ces variables : la modalité la plus importante. Cela ne concerne que 68 individus, mais nous vérifierons la distribution de nos variables"
   ]
  },
  {
   "cell_type": "code",
   "execution_count": 24,
   "metadata": {},
   "outputs": [],
   "source": [
    "var_with_null = pd.DataFrame(data[[\"experience\",\"last_new_job\"]])"
   ]
  },
  {
   "cell_type": "code",
   "execution_count": 25,
   "metadata": {},
   "outputs": [],
   "source": [
    "#imputation par le mode: \n",
    "imp=SimpleImputer(missing_values=np.NaN,strategy='most_frequent')\n",
    "var_with_null_cat=pd.DataFrame(imp.fit_transform(var_with_null))\n",
    "var_with_null_cat.columns=var_with_null.columns\n",
    "var_with_null_cat.index=var_with_null.index"
   ]
  },
  {
   "cell_type": "code",
   "execution_count": 26,
   "metadata": {},
   "outputs": [
    {
     "data": {
      "image/png": "[encoded data removed]",
      "text/plain": [
       "<Figure size 432x288 with 1 Axes>"
      ]
     },
     "metadata": {},
     "output_type": "display_data"
    }
   ],
   "source": [
    "# Diagramme en secteurs : après imputation \n",
    "var_with_null_cat[\"experience\"].value_counts(normalize=True).plot(kind='pie')\n",
    "plt.axis('equal') \n",
    "plt.show() # Affiche le graphique"
   ]
  },
  {
   "cell_type": "code",
   "execution_count": 27,
   "metadata": {},
   "outputs": [
    {
     "data": {
      "image/png": "[encoded data removed]",
      "text/plain": [
       "<Figure size 432x288 with 1 Axes>"
      ]
     },
     "metadata": {},
     "output_type": "display_data"
    }
   ],
   "source": [
    "#Diagramme en secteurs : avant imputation \n",
    "data[\"experience\"].value_counts(normalize=False).plot(kind='pie')\n",
    "plt.axis('equal') \n",
    "plt.show() "
   ]
  },
  {
   "cell_type": "code",
   "execution_count": 28,
   "metadata": {},
   "outputs": [
    {
     "data": {
      "image/png": "[encoded data removed]",
      "text/plain": [
       "<Figure size 432x288 with 1 Axes>"
      ]
     },
     "metadata": {},
     "output_type": "display_data"
    }
   ],
   "source": [
    "# Diagramme en secteurs : après imputation \n",
    "var_with_null_cat[\"last_new_job\"].value_counts(normalize=True).plot(kind='pie')\n",
    "plt.axis('equal') \n",
    "plt.show() "
   ]
  },
  {
   "cell_type": "code",
   "execution_count": 29,
   "metadata": {},
   "outputs": [
    {
     "data": {
      "image/png": "[encoded data removed]",
      "text/plain": [
       "<Figure size 432x288 with 1 Axes>"
      ]
     },
     "metadata": {},
     "output_type": "display_data"
    }
   ],
   "source": [
    "# Diagramme en secteurs : avant imputation \n",
    "data[\"last_new_job\"].value_counts(normalize=True).plot(kind='pie')\n",
    "plt.axis('equal') \n",
    "plt.show()"
   ]
  },
  {
   "cell_type": "code",
   "execution_count": 30,
   "metadata": {},
   "outputs": [
    {
     "data": {
      "text/plain": [
       "1        43.286303\n",
       ">4       20.283767\n",
       "2        16.542486\n",
       "never     7.609385\n",
       "3         6.150919\n",
       "4         6.127140\n",
       "Name: last_new_job, dtype: float64"
      ]
     },
     "execution_count": 30,
     "metadata": {},
     "output_type": "execute_result"
    }
   ],
   "source": [
    "data.last_new_job.value_counts(normalize=True)*100"
   ]
  },
  {
   "cell_type": "code",
   "execution_count": 31,
   "metadata": {},
   "outputs": [
    {
     "data": {
      "text/plain": [
       "1        43.536932\n",
       ">4       20.194129\n",
       "2        16.469381\n",
       "never     7.575758\n",
       "3         6.123737\n",
       "4         6.100063\n",
       "Name: last_new_job, dtype: float64"
      ]
     },
     "execution_count": 31,
     "metadata": {},
     "output_type": "execute_result"
    }
   ],
   "source": [
    "var_with_null_cat.last_new_job.value_counts(normalize=True)*100"
   ]
  },
  {
   "cell_type": "code",
   "execution_count": 32,
   "metadata": {},
   "outputs": [],
   "source": [
    "data[[\"last_new_job\",\"experience\"]]=var_with_null_cat[[\"last_new_job\",\"experience\"]]"
   ]
  },
  {
   "cell_type": "markdown",
   "metadata": {},
   "source": [
    "Variables \"enrolled_university\":"
   ]
  },
  {
   "cell_type": "code",
   "execution_count": 33,
   "metadata": {},
   "outputs": [
    {
     "data": {
      "text/plain": [
       "no_enrollment       0.791291\n",
       "Full time course    0.149932\n",
       "Part time course    0.058777\n",
       "Name: enrolled_university, dtype: float64"
      ]
     },
     "execution_count": 33,
     "metadata": {},
     "output_type": "execute_result"
    }
   ],
   "source": [
    "data[\"enrolled_university\"].value_counts(normalize=True)"
   ]
  },
  {
   "cell_type": "code",
   "execution_count": 34,
   "metadata": {},
   "outputs": [
    {
     "name": "stdout",
     "output_type": "stream",
     "text": [
      "enrolled_university    133\n",
      "dtype: int64\n"
     ]
    }
   ],
   "source": [
    "print(data[[\"enrolled_university\"]].isnull().sum())"
   ]
  },
  {
   "cell_type": "markdown",
   "metadata": {},
   "source": [
    "Pour cette variable, une nouvelle catégorie va être créer : \"other\", afin de transformer ces missings values "
   ]
  },
  {
   "cell_type": "code",
   "execution_count": 35,
   "metadata": {},
   "outputs": [],
   "source": [
    "data[\"enrolled_university\"].fillna(\"other\", inplace = True)"
   ]
  },
  {
   "cell_type": "markdown",
   "metadata": {},
   "source": [
    "### Vérification :"
   ]
  },
  {
   "cell_type": "code",
   "execution_count": 36,
   "metadata": {},
   "outputs": [
    {
     "name": "stdout",
     "output_type": "stream",
     "text": [
      "0\n"
     ]
    }
   ],
   "source": [
    "# Nombre total de valeurs manquantes\n",
    "print(data.isnull().sum().sum())"
   ]
  },
  {
   "cell_type": "markdown",
   "metadata": {},
   "source": [
    "#### d) Traitement des valeurs extrêmes :"
   ]
  },
  {
   "cell_type": "code",
   "execution_count": 37,
   "metadata": {},
   "outputs": [
    {
     "data": {
      "text/plain": [
       "Text(0, 0.5, 'training_hours')"
      ]
     },
     "execution_count": 37,
     "metadata": {},
     "output_type": "execute_result"
    },
    {
     "data": {
      "image/png": "[encoded data removed]",
      "text/plain": [
       "<Figure size 720x360 with 1 Axes>"
      ]
     },
     "metadata": {
      "needs_background": "light"
     },
     "output_type": "display_data"
    }
   ],
   "source": [
    "plt.figure(figsize=(10,5))\n",
    "plt.subplot(1,2,1)\n",
    "plt.boxplot(data[\"training_hours\"])\n",
    "plt.xlabel('outliers')\n",
    "plt.ylabel(\"training_hours\")"
   ]
  },
  {
   "cell_type": "markdown",
   "metadata": {},
   "source": [
    "On peut en déduire que le nombre d'heures utilisées pour former un candidat ne contribue pas beaucoup à la décision du candidat, de changer de travail. \n",
    "Nous pouvons également constater que la durée moyenne du cours dispensé aux candidats est de 46-48 heures. Il n'y a pas de valeurs abbérantes. "
   ]
  },
  {
   "cell_type": "code",
   "execution_count": 38,
   "metadata": {},
   "outputs": [
    {
     "data": {
      "text/plain": [
       "Text(0, 0.5, 'city_development_index')"
      ]
     },
     "execution_count": 38,
     "metadata": {},
     "output_type": "execute_result"
    },
    {
     "data": {
      "image/png": "[encoded data removed]",
      "text/plain": [
       "<Figure size 720x360 with 1 Axes>"
      ]
     },
     "metadata": {
      "needs_background": "light"
     },
     "output_type": "display_data"
    }
   ],
   "source": [
    "plt.figure(figsize=(10,5))\n",
    "plt.subplot(1,2,1)\n",
    "plt.boxplot(data[\"city_development_index\"])\n",
    "plt.xlabel('outliers')\n",
    "plt.ylabel(\"city_development_index\")"
   ]
  },
  {
   "cell_type": "code",
   "execution_count": 39,
   "metadata": {},
   "outputs": [
    {
     "data": {
      "text/plain": [
       "(1.1925422771668837, 0.4866988844492869)"
      ]
     },
     "execution_count": 39,
     "metadata": {},
     "output_type": "execute_result"
    }
   ],
   "source": [
    "def find_boundaries(data, variable):\n",
    "# calculate the boundaries anything outside the upper and lower boundaries is an outlier\n",
    "    limite_sup = data[variable].mean() + 3 * data[variable].std()\n",
    "    limite_inf = data[variable].mean() - 3 * data[variable].std()\n",
    "    return limite_sup, limite_inf\n",
    "limite_sup, limite_inf = find_boundaries(data, 'city_development_index')\n",
    "limite_sup, limite_inf "
   ]
  },
  {
   "cell_type": "code",
   "execution_count": 40,
   "metadata": {},
   "outputs": [
    {
     "name": "stdout",
     "output_type": "stream",
     "text": [
      "Nous avons 0 valeurs abbérantes de la limite supérieure:\n",
      "Nous avons 12 valeurs abbérantes de la limite inférieure:\n"
     ]
    }
   ],
   "source": [
    "print('Nous avons {} valeurs abbérantes de la limite supérieure:'.format(len(data[data['city_development_index'] > limite_sup])))\n",
    "print('Nous avons {} valeurs abbérantes de la limite inférieure:'.format(len(data[data['city_development_index'] < limite_inf])))"
   ]
  },
  {
   "cell_type": "markdown",
   "metadata": {},
   "source": [
    "Il y a 12 villes qui sont considérés comme valeurs abbérantes dans la limite inférieure. Ces villes ont un index de développement très faibles: ce qui peut se traduire par l'envie du candidat de vouloir changer de travail, pour pouvoir changer de ville. Cela peut également signifier que si l'indice de développement des villes est supérieur à environ 0,8, il y a plus de chances que les candidats ne changent pas d'emploi."
   ]
  },
  {
   "cell_type": "markdown",
   "metadata": {},
   "source": [
    "#### e) Target variable : Unbalanced target variable"
   ]
  },
  {
   "cell_type": "code",
   "execution_count": 41,
   "metadata": {},
   "outputs": [
    {
     "data": {
      "text/plain": [
       "0.0    76.010101\n",
       "1.0    23.989899\n",
       "Name: target, dtype: float64"
      ]
     },
     "execution_count": 41,
     "metadata": {},
     "output_type": "execute_result"
    }
   ],
   "source": [
    "data[\"target\"].value_counts(normalize=True)*100"
   ]
  },
  {
   "cell_type": "markdown",
   "metadata": {},
   "source": [
    "## Partie 2 : Statistiques descriptives "
   ]
  },
  {
   "cell_type": "markdown",
   "metadata": {},
   "source": [
    "#### a) Répartition des heures d'apprentissage "
   ]
  },
  {
   "cell_type": "code",
   "execution_count": 42,
   "metadata": {},
   "outputs": [
    {
     "data": {
      "text/html": [
       "<div>\n",
       "<style scoped>\n",
       "    .dataframe tbody tr th:only-of-type {\n",
       "        vertical-align: middle;\n",
       "    }\n",
       "\n",
       "    .dataframe tbody tr th {\n",
       "        vertical-align: top;\n",
       "    }\n",
       "\n",
       "    .dataframe thead th {\n",
       "        text-align: right;\n",
       "    }\n",
       "</style>\n",
       "<table border=\"1\" class=\"dataframe\">\n",
       "  <thead>\n",
       "    <tr style=\"text-align: right;\">\n",
       "      <th></th>\n",
       "      <th>city_development_index</th>\n",
       "      <th>training_hours</th>\n",
       "      <th>target</th>\n",
       "    </tr>\n",
       "  </thead>\n",
       "  <tbody>\n",
       "    <tr>\n",
       "      <th>count</th>\n",
       "      <td>12672.000000</td>\n",
       "      <td>12672.000000</td>\n",
       "      <td>12672.000000</td>\n",
       "    </tr>\n",
       "    <tr>\n",
       "      <th>mean</th>\n",
       "      <td>0.839621</td>\n",
       "      <td>65.009628</td>\n",
       "      <td>0.239899</td>\n",
       "    </tr>\n",
       "    <tr>\n",
       "      <th>std</th>\n",
       "      <td>0.117641</td>\n",
       "      <td>59.817088</td>\n",
       "      <td>0.427038</td>\n",
       "    </tr>\n",
       "    <tr>\n",
       "      <th>min</th>\n",
       "      <td>0.448000</td>\n",
       "      <td>1.000000</td>\n",
       "      <td>0.000000</td>\n",
       "    </tr>\n",
       "    <tr>\n",
       "      <th>25%</th>\n",
       "      <td>0.766000</td>\n",
       "      <td>23.000000</td>\n",
       "      <td>0.000000</td>\n",
       "    </tr>\n",
       "    <tr>\n",
       "      <th>50%</th>\n",
       "      <td>0.910000</td>\n",
       "      <td>47.000000</td>\n",
       "      <td>0.000000</td>\n",
       "    </tr>\n",
       "    <tr>\n",
       "      <th>75%</th>\n",
       "      <td>0.920000</td>\n",
       "      <td>88.000000</td>\n",
       "      <td>0.000000</td>\n",
       "    </tr>\n",
       "    <tr>\n",
       "      <th>max</th>\n",
       "      <td>0.949000</td>\n",
       "      <td>336.000000</td>\n",
       "      <td>1.000000</td>\n",
       "    </tr>\n",
       "  </tbody>\n",
       "</table>\n",
       "</div>"
      ],
      "text/plain": [
       "       city_development_index  training_hours        target\n",
       "count            12672.000000    12672.000000  12672.000000\n",
       "mean                 0.839621       65.009628      0.239899\n",
       "std                  0.117641       59.817088      0.427038\n",
       "min                  0.448000        1.000000      0.000000\n",
       "25%                  0.766000       23.000000      0.000000\n",
       "50%                  0.910000       47.000000      0.000000\n",
       "75%                  0.920000       88.000000      0.000000\n",
       "max                  0.949000      336.000000      1.000000"
      ]
     },
     "execution_count": 42,
     "metadata": {},
     "output_type": "execute_result"
    }
   ],
   "source": [
    "data.describe()"
   ]
  },
  {
   "cell_type": "code",
   "execution_count": 43,
   "metadata": {},
   "outputs": [
    {
     "data": {
      "image/png": "[encoded data removed]",
      "text/plain": [
       "<Figure size 432x288 with 1 Axes>"
      ]
     },
     "metadata": {
      "needs_background": "light"
     },
     "output_type": "display_data"
    }
   ],
   "source": [
    "n, bins, patches = plt.hist(data[\"training_hours\"], bins='auto', color='#0504aa',\n",
    "                            alpha=0.7, rwidth=0.85)\n",
    "plt.grid(axis='y', alpha=0.75)\n",
    "plt.xlabel('training hours')\n",
    "plt.ylabel('Frequencies')\n",
    "plt.title(\"Répartition des heures d'apprentissage\")\n",
    "maxfreq = n.max()"
   ]
  },
  {
   "cell_type": "markdown",
   "metadata": {},
   "source": [
    "Candidats : "
   ]
  },
  {
   "cell_type": "code",
   "execution_count": 44,
   "metadata": {},
   "outputs": [
    {
     "data": {
      "image/png": "[encoded data removed]",
      "text/plain": [
       "<Figure size 360x216 with 1 Axes>"
      ]
     },
     "metadata": {
      "needs_background": "light"
     },
     "output_type": "display_data"
    }
   ],
   "source": [
    "et = data.sort_values(by='training_hours', ascending=True)[:7000]\n",
    "figure = plt.figure(figsize=(5,3))\n",
    "sns.barplot(y=data.education_level, x=data.training_hours)\n",
    "plt.xticks()\n",
    "plt.xlabel('training hours')\n",
    "plt.ylabel('education level')\n",
    "plt.title('education level : training hours ')\n",
    "plt.show()"
   ]
  },
  {
   "cell_type": "markdown",
   "metadata": {},
   "source": [
    "Entreprises :"
   ]
  },
  {
   "cell_type": "code",
   "execution_count": 45,
   "metadata": {},
   "outputs": [
    {
     "data": {
      "image/png": "[encoded data removed]",
      "text/plain": [
       "<Figure size 360x216 with 1 Axes>"
      ]
     },
     "metadata": {
      "needs_background": "light"
     },
     "output_type": "display_data"
    }
   ],
   "source": [
    "et = data3.sort_values(by='training_hours', ascending=True)[:7000]\n",
    "figure = plt.figure(figsize=(5,3))\n",
    "sns.barplot(y=data3.company_size, x=data3.training_hours)\n",
    "plt.xticks()\n",
    "plt.xlabel('training hours')\n",
    "plt.ylabel('company_sizel')\n",
    "plt.title('company_size : training hours ')\n",
    "plt.show()"
   ]
  },
  {
   "cell_type": "markdown",
   "metadata": {},
   "source": [
    "On constate que la majorité des candidats recoivent entre 23 et 88 heures d'apprentissage. La moyenne est autour de 65h. Si on s'intéresse aux types de candidats qui sont le plus formés, on constate que ce sont ceux qui ont un PHD qui ont le plus d'heures d'apprentissage en moyenne. Concernant les entreprises, ce ne sont pas les plus grandes qui accordent le plus d'heures pour former un candidat mais les PME (10-49 et 50-99). "
   ]
  },
  {
   "cell_type": "markdown",
   "metadata": {},
   "source": [
    "#### b) Le nombre de femmes ayant une expérience d’au moins 5 ans et vivant dans une ville avec un indice de développement d’au moins 0.9"
   ]
  },
  {
   "cell_type": "code",
   "execution_count": 46,
   "metadata": {},
   "outputs": [
    {
     "data": {
      "text/html": [
       "<div>\n",
       "<style scoped>\n",
       "    .dataframe tbody tr th:only-of-type {\n",
       "        vertical-align: middle;\n",
       "    }\n",
       "\n",
       "    .dataframe tbody tr th {\n",
       "        vertical-align: top;\n",
       "    }\n",
       "\n",
       "    .dataframe thead th {\n",
       "        text-align: right;\n",
       "    }\n",
       "</style>\n",
       "<table border=\"1\" class=\"dataframe\">\n",
       "  <thead>\n",
       "    <tr style=\"text-align: right;\">\n",
       "      <th></th>\n",
       "      <th>city</th>\n",
       "      <th>city_development_index</th>\n",
       "      <th>gender</th>\n",
       "      <th>relevent_experience</th>\n",
       "      <th>enrolled_university</th>\n",
       "      <th>education_level</th>\n",
       "      <th>major_discipline</th>\n",
       "      <th>experience</th>\n",
       "      <th>last_new_job</th>\n",
       "      <th>training_hours</th>\n",
       "      <th>target</th>\n",
       "    </tr>\n",
       "  </thead>\n",
       "  <tbody>\n",
       "    <tr>\n",
       "      <th>0</th>\n",
       "      <td>city_13</td>\n",
       "      <td>0.827</td>\n",
       "      <td>Female</td>\n",
       "      <td>Has relevent experience</td>\n",
       "      <td>no_enrollment</td>\n",
       "      <td>Graduate</td>\n",
       "      <td>Arts</td>\n",
       "      <td>4</td>\n",
       "      <td>1</td>\n",
       "      <td>132</td>\n",
       "      <td>1.0</td>\n",
       "    </tr>\n",
       "    <tr>\n",
       "      <th>1</th>\n",
       "      <td>city_103</td>\n",
       "      <td>0.920</td>\n",
       "      <td>Female</td>\n",
       "      <td>No relevent experience</td>\n",
       "      <td>Full time course</td>\n",
       "      <td>Graduate</td>\n",
       "      <td>STEM</td>\n",
       "      <td>5</td>\n",
       "      <td>1</td>\n",
       "      <td>24</td>\n",
       "      <td>0.0</td>\n",
       "    </tr>\n",
       "    <tr>\n",
       "      <th>2</th>\n",
       "      <td>city_160</td>\n",
       "      <td>0.920</td>\n",
       "      <td>Female</td>\n",
       "      <td>Has relevent experience</td>\n",
       "      <td>no_enrollment</td>\n",
       "      <td>Graduate</td>\n",
       "      <td>STEM</td>\n",
       "      <td>&gt;20</td>\n",
       "      <td>&gt;4</td>\n",
       "      <td>82</td>\n",
       "      <td>0.0</td>\n",
       "    </tr>\n",
       "    <tr>\n",
       "      <th>3</th>\n",
       "      <td>city_114</td>\n",
       "      <td>0.926</td>\n",
       "      <td>Female</td>\n",
       "      <td>Has relevent experience</td>\n",
       "      <td>Full time course</td>\n",
       "      <td>Masters</td>\n",
       "      <td>STEM</td>\n",
       "      <td>16</td>\n",
       "      <td>2</td>\n",
       "      <td>14</td>\n",
       "      <td>0.0</td>\n",
       "    </tr>\n",
       "    <tr>\n",
       "      <th>4</th>\n",
       "      <td>city_21</td>\n",
       "      <td>0.624</td>\n",
       "      <td>Female</td>\n",
       "      <td>No relevent experience</td>\n",
       "      <td>Full time course</td>\n",
       "      <td>Masters</td>\n",
       "      <td>STEM</td>\n",
       "      <td>5</td>\n",
       "      <td>never</td>\n",
       "      <td>26</td>\n",
       "      <td>1.0</td>\n",
       "    </tr>\n",
       "    <tr>\n",
       "      <th>...</th>\n",
       "      <td>...</td>\n",
       "      <td>...</td>\n",
       "      <td>...</td>\n",
       "      <td>...</td>\n",
       "      <td>...</td>\n",
       "      <td>...</td>\n",
       "      <td>...</td>\n",
       "      <td>...</td>\n",
       "      <td>...</td>\n",
       "      <td>...</td>\n",
       "      <td>...</td>\n",
       "    </tr>\n",
       "    <tr>\n",
       "      <th>1154</th>\n",
       "      <td>city_103</td>\n",
       "      <td>0.920</td>\n",
       "      <td>Female</td>\n",
       "      <td>Has relevent experience</td>\n",
       "      <td>no_enrollment</td>\n",
       "      <td>Graduate</td>\n",
       "      <td>STEM</td>\n",
       "      <td>6</td>\n",
       "      <td>1</td>\n",
       "      <td>44</td>\n",
       "      <td>0.0</td>\n",
       "    </tr>\n",
       "    <tr>\n",
       "      <th>1155</th>\n",
       "      <td>city_103</td>\n",
       "      <td>0.920</td>\n",
       "      <td>Female</td>\n",
       "      <td>No relevent experience</td>\n",
       "      <td>no_enrollment</td>\n",
       "      <td>Graduate</td>\n",
       "      <td>Arts</td>\n",
       "      <td>1</td>\n",
       "      <td>1</td>\n",
       "      <td>8</td>\n",
       "      <td>0.0</td>\n",
       "    </tr>\n",
       "    <tr>\n",
       "      <th>1156</th>\n",
       "      <td>city_103</td>\n",
       "      <td>0.920</td>\n",
       "      <td>Female</td>\n",
       "      <td>Has relevent experience</td>\n",
       "      <td>no_enrollment</td>\n",
       "      <td>Masters</td>\n",
       "      <td>STEM</td>\n",
       "      <td>6</td>\n",
       "      <td>1</td>\n",
       "      <td>18</td>\n",
       "      <td>0.0</td>\n",
       "    </tr>\n",
       "    <tr>\n",
       "      <th>1157</th>\n",
       "      <td>city_160</td>\n",
       "      <td>0.920</td>\n",
       "      <td>Female</td>\n",
       "      <td>Has relevent experience</td>\n",
       "      <td>no_enrollment</td>\n",
       "      <td>Graduate</td>\n",
       "      <td>STEM</td>\n",
       "      <td>10</td>\n",
       "      <td>3</td>\n",
       "      <td>23</td>\n",
       "      <td>0.0</td>\n",
       "    </tr>\n",
       "    <tr>\n",
       "      <th>1158</th>\n",
       "      <td>city_103</td>\n",
       "      <td>0.920</td>\n",
       "      <td>Female</td>\n",
       "      <td>Has relevent experience</td>\n",
       "      <td>no_enrollment</td>\n",
       "      <td>Graduate</td>\n",
       "      <td>Humanities</td>\n",
       "      <td>7</td>\n",
       "      <td>1</td>\n",
       "      <td>25</td>\n",
       "      <td>0.0</td>\n",
       "    </tr>\n",
       "  </tbody>\n",
       "</table>\n",
       "<p>1159 rows × 11 columns</p>\n",
       "</div>"
      ],
      "text/plain": [
       "          city  city_development_index  gender      relevent_experience  \\\n",
       "0      city_13                   0.827  Female  Has relevent experience   \n",
       "1     city_103                   0.920  Female   No relevent experience   \n",
       "2     city_160                   0.920  Female  Has relevent experience   \n",
       "3     city_114                   0.926  Female  Has relevent experience   \n",
       "4      city_21                   0.624  Female   No relevent experience   \n",
       "...        ...                     ...     ...                      ...   \n",
       "1154  city_103                   0.920  Female  Has relevent experience   \n",
       "1155  city_103                   0.920  Female   No relevent experience   \n",
       "1156  city_103                   0.920  Female  Has relevent experience   \n",
       "1157  city_160                   0.920  Female  Has relevent experience   \n",
       "1158  city_103                   0.920  Female  Has relevent experience   \n",
       "\n",
       "     enrolled_university education_level major_discipline experience  \\\n",
       "0          no_enrollment        Graduate             Arts          4   \n",
       "1       Full time course        Graduate             STEM          5   \n",
       "2          no_enrollment        Graduate             STEM        >20   \n",
       "3       Full time course         Masters             STEM         16   \n",
       "4       Full time course         Masters             STEM          5   \n",
       "...                  ...             ...              ...        ...   \n",
       "1154       no_enrollment        Graduate             STEM          6   \n",
       "1155       no_enrollment        Graduate             Arts          1   \n",
       "1156       no_enrollment         Masters             STEM          6   \n",
       "1157       no_enrollment        Graduate             STEM         10   \n",
       "1158       no_enrollment        Graduate       Humanities          7   \n",
       "\n",
       "     last_new_job  training_hours  target  \n",
       "0               1             132     1.0  \n",
       "1               1              24     0.0  \n",
       "2              >4              82     0.0  \n",
       "3               2              14     0.0  \n",
       "4           never              26     1.0  \n",
       "...           ...             ...     ...  \n",
       "1154            1              44     0.0  \n",
       "1155            1               8     0.0  \n",
       "1156            1              18     0.0  \n",
       "1157            3              23     0.0  \n",
       "1158            1              25     0.0  \n",
       "\n",
       "[1159 rows x 11 columns]"
      ]
     },
     "execution_count": 46,
     "metadata": {},
     "output_type": "execute_result"
    }
   ],
   "source": [
    "stats = pd.DataFrame(data[data['gender']== 'Female'].reset_index(drop=True))\n",
    "stats #new dataframe avec seulement les femmes "
   ]
  },
  {
   "cell_type": "markdown",
   "metadata": {},
   "source": [
    "La variable city development index est continue : on cherche à obtenir que les villes qui ont un indice supérieur à 0.9"
   ]
  },
  {
   "cell_type": "code",
   "execution_count": 47,
   "metadata": {},
   "outputs": [],
   "source": [
    "stats[\"city_dev\"] = (stats['city_development_index']>=0.9)\n",
    "stats[\"city_dev\"] = stats[\"city_dev\"].replace([True, False], [1, 0])"
   ]
  },
  {
   "cell_type": "markdown",
   "metadata": {},
   "source": [
    "La variable expérience est catégorielle : on va créer une nouvelle variable binaire : avoir plus ou moins de 5 années d'expériences "
   ]
  },
  {
   "cell_type": "code",
   "execution_count": 48,
   "metadata": {},
   "outputs": [],
   "source": [
    "stats['exp'] = stats['experience'].replace(['>20', '15', '13', '7', '5', '16', '4', '11', '<1', '18', '19',\n",
    "       '12', '10', '9', '2', '6', '14', '3', '8', '20', '17', '1'], [1,1,1,1,1,1,0,1,0,1,1,1,1,1,0,\n",
    "                                                                     1,1,0,1,1,1,0])                                                                "
   ]
  },
  {
   "cell_type": "code",
   "execution_count": 51,
   "metadata": {},
   "outputs": [
    {
     "data": {
      "text/html": [
       "<div>\n",
       "<style scoped>\n",
       "    .dataframe tbody tr th:only-of-type {\n",
       "        vertical-align: middle;\n",
       "    }\n",
       "\n",
       "    .dataframe tbody tr th {\n",
       "        vertical-align: top;\n",
       "    }\n",
       "\n",
       "    .dataframe thead th {\n",
       "        text-align: right;\n",
       "    }\n",
       "</style>\n",
       "<table border=\"1\" class=\"dataframe\">\n",
       "  <thead>\n",
       "    <tr style=\"text-align: right;\">\n",
       "      <th>city_dev</th>\n",
       "      <th>0</th>\n",
       "      <th>1</th>\n",
       "    </tr>\n",
       "    <tr>\n",
       "      <th>exp</th>\n",
       "      <th></th>\n",
       "      <th></th>\n",
       "    </tr>\n",
       "  </thead>\n",
       "  <tbody>\n",
       "    <tr>\n",
       "      <th>0</th>\n",
       "      <td>0.128559</td>\n",
       "      <td>0.161346</td>\n",
       "    </tr>\n",
       "    <tr>\n",
       "      <th>1</th>\n",
       "      <td>0.267472</td>\n",
       "      <td>0.442623</td>\n",
       "    </tr>\n",
       "  </tbody>\n",
       "</table>\n",
       "</div>"
      ],
      "text/plain": [
       "city_dev         0         1\n",
       "exp                         \n",
       "0         0.128559  0.161346\n",
       "1         0.267472  0.442623"
      ]
     },
     "execution_count": 51,
     "metadata": {},
     "output_type": "execute_result"
    }
   ],
   "source": [
    "pd.crosstab(stats.exp, stats['city_dev'],normalize='all')"
   ]
  },
  {
   "cell_type": "markdown",
   "metadata": {},
   "source": [
    "44% de femmes ont au moins 5 ans d'expérience et vivent dans une ville avec un indice de développement d’au moins 0.9, soit environ 513 sur 1159. \n"
   ]
  },
  {
   "cell_type": "markdown",
   "metadata": {},
   "source": [
    "## Partie 3 : informations pertinentes dans ce jeu de données"
   ]
  },
  {
   "cell_type": "markdown",
   "metadata": {},
   "source": [
    "#### Approche 1 :\n",
    "Cet ensemble de données peut être utilisé, pour comprendre les facteurs qui amènent une personne à travailler dans une entreprise (ici dans le secteur des Big Data). En utilisant des variables de contexte (indice de la ville, taille de l'entreprise, etc..) et des variables relatives aux candidats (son expérience, cursus scolaire, dernier emploi, etc..), il serait possible de prédire la probabilité que le candidat travaille pour l'entreprise ou non. \n",
    "\n",
    "En effet, le processus de recrutement peut s'avérer coûteux pour l'entreprise et à cause de l'asymétrie d'information (le candidat ayant plus d'informations que le recruteur), prédire la probabilité que ce candidat travaille au final pour cette entreprise peut s'avérer être un gain de temps pour l'établissement. \n",
    "\n",
    "Nous sommes dans le cas d'une classification binaire : travailler ou non pour l'entreprise. C'est de l'apprentissage supervisé, on peut donc couper notre dataset en un échantillon train, pour réaliser nos modèles et en test pour pouvoir les évaluer. Après avoir nettoyé la base de données, il faut traiter le problème de classification déséquilibrée. Trop peu de candidats changent de travail. Ce déséquilibre peut augmenter la difficulté de l'apprentissage par algorithme de classification (dans le cas du machine learning). \n",
    "On peut résoudre ce probème grâce à la méthode de oversampling, en utilisant le package SMOTE : on générerait des données supplémentaires de la classe minoritaire pour augmenter leurs effets sur le modèle (et l'appliquer que sur l'échantillon train, et non le test). En revanche, il faudra faire attention aux risques de sur-échantillonage du modèle.\n",
    "Après avoir encoder toutes les variables et séléctionner les features les plus significatives, on peut réaliser différents modèles tels que la Logistique Regression, le Decision Tree ou même les Random Forest. On utilisera le modèle qui produira le meilleur résultat: la meilleure accuracy. "
   ]
  },
  {
   "cell_type": "markdown",
   "metadata": {},
   "source": [
    "#### Approche 2 :\n",
    "Une deuxième approche d'un point du vue du candidat, consisterait à s'intéresser qu'aux données concernant l'entreprise (la taille et le type) la ville et avec de nouvelles variables tels que l'estimation du salaire, la description du nouvel emploi, il serait alors possible de prédire le meilleur emploi en fonction du salaire ou de prévoir le salaire en fonction du secteur d'activité, de la taille de l'entreprise, de la ville. Cela faciliterait la recherche d'emploi pour les individus dans le besoin. "
   ]
  }
 ],
 "metadata": {
  "kernelspec": {
   "display_name": "Python 3",
   "language": "python",
   "name": "python3"
  },
  "language_info": {
   "codemirror_mode": {
    "name": "ipython",
    "version": 3
   },
   "file_extension": ".py",
   "mimetype": "text/x-python",
   "name": "python",
   "nbconvert_exporter": "python",
   "pygments_lexer": "ipython3",
   "version": "3.8.5"
  }
 },
 "nbformat": 4,
 "nbformat_minor": 4
}
